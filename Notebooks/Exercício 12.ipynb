{
 "cells": [
  {
   "cell_type": "markdown",
   "metadata": {},
   "source": [
    "## **Exercício 12: Sistema de Envio de Emails com Dados Turísticos em JSON**\n",
    "\n",
    "*Queremos montar um sistema que envie emails com os pontos turísticos de cidades num roteiro de viagem.*\n",
    "\n",
    "*Com base no Exercício 11, altere o prompt para estruturar a saída em formato JSON, com descrições e número de visitantes.*\n",
    "\n",
    "*Crie um notebook que use a biblioteca pandas para converter esse JSON para dataframe e plot um único gráfico de barras horizontais com todos os pontos turísticos, destacando as cores das barras de acordo com a cidade do ponto turístico (Coliseu, em Roma deve ter uma cor diferente que Parthenon, em Atenas).* \n",
    "\n",
    "*Coloque as legendas no gráfico.*"
   ]
  },
  {
   "cell_type": "code",
   "execution_count": 1,
   "metadata": {},
   "outputs": [],
   "source": [
    "import google.generativeai as genai\n",
    "from dotenv import load_dotenv\n",
    "import os\n",
    "\n",
    "load_dotenv('../.env')\n",
    "\n",
    "genai.configure(api_key=os.environ['GEMINI_KEY'])\n",
    "\n",
    "modelo = genai.GenerativeModel('gemini-1.5-flash')"
   ]
  },
  {
   "cell_type": "code",
   "execution_count": 2,
   "metadata": {},
   "outputs": [],
   "source": [
    "import yaml\n",
    "\n",
    "modelo = genai.GenerativeModel('gemini-1.5-flash')\n",
    "\n",
    "with open('../Dados/roteiro.yaml', 'r') as arquivo:\n",
    "    roteiro = yaml.safe_load(arquivo)\n",
    "\n",
    "pergunta_json = f\"\"\"\n",
    "Seguindo o formato do arquivo YAML abaixo, crie um arquivo em formato JSON que \n",
    "liste 3 pontos turísticos de CADA CIDADE , incluindo uma breve descrião e número anual de visitantes para cada.\n",
    "Exiba somente o conteúdo do arquivo JSON em si, sem a necessidade de escrever '''json'''.\n",
    "\n",
    "Exemplo (ainda sem as chaves e colchetes de um JSON):\n",
    "\n",
    "\"roteiro\": \n",
    "      \"cidade\": \"Rio de Janeiro\",\n",
    "      \"pontos_turisticos\": \n",
    "          \"nome\": \"Praia de Copacabana\",\n",
    "          \"descricao\": \"Uma das praias mais bonitas do mundo\",\n",
    "          \"visitantes_anuais\": \"3 milhões de visitantes\"\n",
    "\n",
    "Aqui estão os dados originais:\n",
    "\n",
    "{roteiro}\n",
    "\"\"\"\n",
    "\n",
    "resposta_json = modelo.generate_content(pergunta_json)"
   ]
  },
  {
   "cell_type": "code",
   "execution_count": 3,
   "metadata": {},
   "outputs": [],
   "source": [
    "# SALVANDO O ARQUIVO JSON\n",
    "\n",
    "import json\n",
    "\n",
    "dados_json = json.loads(resposta_json.text)\n",
    "\n",
    "with open('../Dados/roteiro.json', 'w', encoding='utf-8') as arquivo:\n",
    "    json.dump(dados_json, arquivo, ensure_ascii=False, indent=4)"
   ]
  },
  {
   "cell_type": "code",
   "execution_count": 4,
   "metadata": {},
   "outputs": [],
   "source": [
    "# TRANSFORMANDO EM UM DATAFRAME DO PANDAS\n",
    "\n",
    "import pandas as pd\n",
    "\n",
    "with open('../Dados/roteiro.json', 'r', encoding='utf-8') as arquivo:\n",
    "    dados_json = json.load(arquivo)\n",
    "\n",
    "roteiro_df = pd.json_normalize(dados_json['roteiro'],\n",
    "                               record_path=['pontos_turisticos'],\n",
    "                               meta=['cidade']\n",
    "                               )"
   ]
  },
  {
   "cell_type": "code",
   "execution_count": 5,
   "metadata": {},
   "outputs": [],
   "source": [
    "roteiro_df['visitantes_anuais_num'] = roteiro_df['visitantes_anuais'].apply(lambda x: float(x.split()[0]) * 1_000_000)"
   ]
  },
  {
   "cell_type": "code",
   "execution_count": 6,
   "metadata": {},
   "outputs": [
    {
     "data": {
      "text/html": [
       "<div>\n",
       "<style scoped>\n",
       "    .dataframe tbody tr th:only-of-type {\n",
       "        vertical-align: middle;\n",
       "    }\n",
       "\n",
       "    .dataframe tbody tr th {\n",
       "        vertical-align: top;\n",
       "    }\n",
       "\n",
       "    .dataframe thead th {\n",
       "        text-align: right;\n",
       "    }\n",
       "</style>\n",
       "<table border=\"1\" class=\"dataframe\">\n",
       "  <thead>\n",
       "    <tr style=\"text-align: right;\">\n",
       "      <th></th>\n",
       "      <th>nome</th>\n",
       "      <th>descricao</th>\n",
       "      <th>visitantes_anuais</th>\n",
       "      <th>cidade</th>\n",
       "      <th>visitantes_anuais_num</th>\n",
       "    </tr>\n",
       "  </thead>\n",
       "  <tbody>\n",
       "    <tr>\n",
       "      <th>0</th>\n",
       "      <td>Acropolis</td>\n",
       "      <td>Um dos monumentos mais famosos do mundo, com v...</td>\n",
       "      <td>7 milhões de visitantes</td>\n",
       "      <td>Atenas</td>\n",
       "      <td>7000000.0</td>\n",
       "    </tr>\n",
       "    <tr>\n",
       "      <th>1</th>\n",
       "      <td>Partenon</td>\n",
       "      <td>Um templo antigo dedicado à deusa Atena, a deu...</td>\n",
       "      <td>6 milhões de visitantes</td>\n",
       "      <td>Atenas</td>\n",
       "      <td>6000000.0</td>\n",
       "    </tr>\n",
       "    <tr>\n",
       "      <th>2</th>\n",
       "      <td>Museu da Acrópole</td>\n",
       "      <td>Um museu com uma coleção de artefatos da Acróp...</td>\n",
       "      <td>1.5 milhões de visitantes</td>\n",
       "      <td>Atenas</td>\n",
       "      <td>1500000.0</td>\n",
       "    </tr>\n",
       "    <tr>\n",
       "      <th>3</th>\n",
       "      <td>Coliseu</td>\n",
       "      <td>Um anfiteatro romano antigo, um dos monumentos...</td>\n",
       "      <td>7.5 milhões de visitantes</td>\n",
       "      <td>Roma</td>\n",
       "      <td>7500000.0</td>\n",
       "    </tr>\n",
       "    <tr>\n",
       "      <th>4</th>\n",
       "      <td>Fórum Romano</td>\n",
       "      <td>O centro da vida política e social da Roma ant...</td>\n",
       "      <td>4 milhões de visitantes</td>\n",
       "      <td>Roma</td>\n",
       "      <td>4000000.0</td>\n",
       "    </tr>\n",
       "    <tr>\n",
       "      <th>5</th>\n",
       "      <td>Museus Vaticanos</td>\n",
       "      <td>Um complexo de museus e galerias de arte, incl...</td>\n",
       "      <td>6 milhões de visitantes</td>\n",
       "      <td>Roma</td>\n",
       "      <td>6000000.0</td>\n",
       "    </tr>\n",
       "  </tbody>\n",
       "</table>\n",
       "</div>"
      ],
      "text/plain": [
       "                nome                                          descricao  \\\n",
       "0          Acropolis  Um dos monumentos mais famosos do mundo, com v...   \n",
       "1           Partenon  Um templo antigo dedicado à deusa Atena, a deu...   \n",
       "2  Museu da Acrópole  Um museu com uma coleção de artefatos da Acróp...   \n",
       "3            Coliseu  Um anfiteatro romano antigo, um dos monumentos...   \n",
       "4       Fórum Romano  O centro da vida política e social da Roma ant...   \n",
       "5   Museus Vaticanos  Um complexo de museus e galerias de arte, incl...   \n",
       "\n",
       "           visitantes_anuais  cidade  visitantes_anuais_num  \n",
       "0    7 milhões de visitantes  Atenas              7000000.0  \n",
       "1    6 milhões de visitantes  Atenas              6000000.0  \n",
       "2  1.5 milhões de visitantes  Atenas              1500000.0  \n",
       "3  7.5 milhões de visitantes    Roma              7500000.0  \n",
       "4    4 milhões de visitantes    Roma              4000000.0  \n",
       "5    6 milhões de visitantes    Roma              6000000.0  "
      ]
     },
     "execution_count": 6,
     "metadata": {},
     "output_type": "execute_result"
    }
   ],
   "source": [
    "roteiro_df"
   ]
  },
  {
   "cell_type": "code",
   "execution_count": 7,
   "metadata": {},
   "outputs": [
    {
     "data": {
      "image/png": "[encoded data removed]",
      "text/plain": [
       "<Figure size 640x480 with 1 Axes>"
      ]
     },
     "metadata": {},
     "output_type": "display_data"
    }
   ],
   "source": [
    "import matplotlib.pyplot as plt\n",
    "import seaborn as sns\n",
    "\n",
    "sns.barplot(data=roteiro_df, x='nome', y='visitantes_anuais_num', hue='cidade')\n",
    "\n",
    "plt.title('Pontos Turísticos')\n",
    "plt.ylabel('Visitantes Anuais (em milhões)')\n",
    "plt.xlabel('')\n",
    "plt.xticks(rotation=90)\n",
    "plt.grid(axis='y', alpha=0.5)\n",
    "plt.show()"
   ]
  }
 ],
 "metadata": {
  "kernelspec": {
   "display_name": ".venv_tp2",
   "language": "python",
   "name": "python3"
  },
  "language_info": {
   "codemirror_mode": {
    "name": "ipython",
    "version": 3
   },
   "file_extension": ".py",
   "mimetype": "text/x-python",
   "name": "python",
   "nbconvert_exporter": "python",
   "pygments_lexer": "ipython3",
   "version": "3.12.4"
  }
 },
 "nbformat": 4,
 "nbformat_minor": 2
}
