{
 "cells": [
  {
   "cell_type": "markdown",
   "metadata": {},
   "source": [
    "## **Exercício 11: Estruturação de Prompts com Arquivo YAML**\n",
    "\n",
    "*Crie um arquivo YAML que represente a estrutura:*\n",
    "\n",
    "    {‘'roteiro’: {‘atenas’: ‘prompt’, ‘roma’: ‘prompt’}}\n",
    "\n",
    "\n",
    "*Você deve definir dois prompts: um para listar 3 pontos turísticos de Roma, o número anual de visitantes e uma breve descrição de cada um, e outro para fazer o mesmo com Atenas.*\n",
    "\n",
    "*Em seguida, crie um notebook que leia esse arquivo YAML e execute os prompts usando o Gemini (uma execução por cidade no roteiro).*\n",
    "\n",
    "*Qual foi o resultado? Os pontos turísticos são relevantes e suas descrições são precisas?*"
   ]
  },
  {
   "cell_type": "markdown",
   "metadata": {},
   "source": [
    "**Criamos um arquivo .YAML** na pasta Dados com a seguinte estrutura:\n",
    "\n",
    "    {'roteiro':\n",
    "                {'atenas': 'Liste 3 pontos turísticos de Atenas, incluindo uma breve descrião e número anual de visitantes para cada.',\n",
    "                'roma': 'Liste 3 pontos turísticos de Roma, incluindo uma breve descrião e número anual de visitantes para cada.'}\n",
    "    }"
   ]
  },
  {
   "cell_type": "code",
   "execution_count": 1,
   "metadata": {},
   "outputs": [],
   "source": [
    "import google.generativeai as genai\n",
    "from dotenv import load_dotenv\n",
    "import os\n",
    "\n",
    "load_dotenv('../.env')\n",
    "\n",
    "genai.configure(api_key=os.environ['GEMINI_KEY'])\n",
    "\n",
    "modelo = genai.GenerativeModel('gemini-1.5-flash')"
   ]
  },
  {
   "cell_type": "code",
   "execution_count": 2,
   "metadata": {},
   "outputs": [
    {
     "name": "stdout",
     "output_type": "stream",
     "text": [
      "## 3 Pontos Turísticos de Atenas:\n",
      "\n",
      "**1. Acrópole:**\n",
      "\n",
      "* **Descrição:** Um complexo de monumentos antigos, incluindo o Parthenon, que dominam a cidade de Atenas. É o sítio arqueológico mais famoso da Grécia e um símbolo da cultura clássica.\n",
      "* **Número Anual de Visitantes:** Aproximadamente 3 milhões de visitantes por ano.\n",
      "\n",
      "**2. Museu da Acrópole:**\n",
      "\n",
      "* **Descrição:** Museu que exibe artefatos e esculturas provenientes da Acrópole, oferecendo um panorama completo da história e arte da colina sagrada.\n",
      "* **Número Anual de Visitantes:** Aproximadamente 1,5 milhões de visitantes por ano.\n",
      "\n",
      "**3. Ágora Antiga:**\n",
      "\n",
      "* **Descrição:** O antigo mercado e centro cívico de Atenas, com ruínas de templos, edifícios públicos e lojas. A Ágora Antiga oferece uma visão da vida cotidiana na Atenas antiga.\n",
      "* **Número Anual de Visitantes:** Aproximadamente 500.000 visitantes por ano. \n",
      "\n",
      "## 3 Pontos turísticos de Roma:\n",
      "\n",
      "**1. Coliseu:**\n",
      "\n",
      "* **Descrição:** Um anfiteatro gigante construído no século 1 d.C. para abrigar jogos e espetáculos.  Símbolo da Roma antiga, o Coliseu é um dos monumentos mais visitados do mundo, conhecido por sua arquitetura imponente e história rica.\n",
      "\n",
      "* **Número de visitantes anual:** Cerca de **7 milhões** de pessoas visitam o Coliseu anualmente.\n",
      "\n",
      "**2. Fórum Romano e Palatino:**\n",
      "\n",
      "* **Descrição:** Conjunto de ruínas que representam o centro político, social e religioso de Roma na Antiguidade. Abrange os restos de templos, basílicas, mercados e casas romanas, oferecendo um vislumbre da vida romana antiga.\n",
      "\n",
      "* **Número de visitantes anual:**  Aproximadamente **3 milhões** de pessoas visitam o Fórum Romano e o Palatino anualmente.\n",
      "\n",
      "**3. Galeria Borghese e Jardins:**\n",
      "\n",
      "* **Descrição:** Um museu e jardim que abriga uma coleção de esculturas renascentistas e barrocas de artistas como Bernini e Caravaggio. O jardim é um oásis verde no coração de Roma, com fontes, esculturas e vistas deslumbrantes.\n",
      "\n",
      "* **Número de visitantes anual:** Cerca de **1 milhão** de pessoas visitam a Galeria Borghese e Jardins anualmente. \n",
      "\n"
     ]
    }
   ],
   "source": [
    "import yaml\n",
    "\n",
    "modelo = genai.GenerativeModel('gemini-1.5-flash')\n",
    "\n",
    "with open('../Dados/roteiro.yaml', 'r') as arquivo:\n",
    "    roteiro = yaml.safe_load(arquivo)\n",
    "\n",
    "for cidade in roteiro['roteiro'].items():\n",
    "    pergunta = cidade[1]\n",
    "    resposta = modelo.generate_content(pergunta)\n",
    "    print(resposta.text)"
   ]
  },
  {
   "cell_type": "markdown",
   "metadata": {},
   "source": [
    "• **Avaliação da Resposta**\n",
    "\n",
    "A escolha de pontos turísticos faz sentido e o número anual de visitantes parece correto, assim como suas descrições.\n",
    "\n",
    "Algumas grafias estão levemente altearadas, talvez por conta de traduções para o português (Propileia em vez de Propileu, Erechtheion em vez de Erecteion).\n",
    "\n",
    "O modelo considerou o Vaticano e alguns museus e a Capela Sistina como parte de Roma. Embora a Cidade do Vaticano realmente seja considerado um Estado soberano totalmente fechado dentro de Roma, não sei se é correto considerá-lo parte do roteiro nesse contexto.\n",
    "\n",
    "---"
   ]
  }
 ],
 "metadata": {
  "kernelspec": {
   "display_name": ".venv_tp2",
   "language": "python",
   "name": "python3"
  },
  "language_info": {
   "codemirror_mode": {
    "name": "ipython",
    "version": 3
   },
   "file_extension": ".py",
   "mimetype": "text/x-python",
   "name": "python",
   "nbconvert_exporter": "python",
   "pygments_lexer": "ipython3",
   "version": "3.12.4"
  }
 },
 "nbformat": 4,
 "nbformat_minor": 2
}
