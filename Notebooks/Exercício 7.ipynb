{
 "cells": [
  {
   "cell_type": "markdown",
   "metadata": {},
   "source": [
    "## **Exercício 7: Resumo de Notícia Utilizando Exemplos em Prompts**\n",
    "\n",
    "*Usando a API Gemini, crie um notebook que utilize prompts para resumir uma notícia (escolha da página principal de um portal de notícias e copie no notebook).*\n",
    "\n",
    "*O prompt deve solicitar um resumo dessa notícia usando o princípio de Exemplos para guiar a resposta do LLM. Teste o código e avalie a qualidade do resumo gerado.*"
   ]
  },
  {
   "cell_type": "code",
   "execution_count": 1,
   "metadata": {},
   "outputs": [],
   "source": [
    "import google.generativeai as genai\n",
    "from dotenv import load_dotenv\n",
    "import os\n",
    "\n",
    "load_dotenv('../.env')\n",
    "\n",
    "genai.configure(api_key=os.environ['GEMINI_KEY'])"
   ]
  },
  {
   "cell_type": "markdown",
   "metadata": {},
   "source": [
    "https://g1.globo.com/meio-ambiente/noticia/2024/11/08/centro-sul-deve-ter-tempo-instavel-no-fim-de-semana-ciclone-bomba-chega-nos-proximos-dias.ghtml"
   ]
  },
  {
   "cell_type": "code",
   "execution_count": 2,
   "metadata": {},
   "outputs": [],
   "source": [
    "noticia = \"\"\"\n",
    "Depois de uma semana de muitas pancadas de chuva, o fim de semana deve ser de tempo instável em boa parte do país. De acordo com a Climatempo, uma frente fria deve ser formar no Sudeste ainda nesta sexta-feira (8) e canalizar umidade vinda da Amazônia.\n",
    "\n",
    "Segundo o Instituto Nacional de Meteorologia (Inmet), há risco de temporais nos seguintes locais:\n",
    "\n",
    "nordeste de São Paulo;\n",
    "Minas Gerais;\n",
    "Rio de Janeiro;\n",
    "sul do Espírito Santo;\n",
    "Goiás;\n",
    "Distrito Federal;\n",
    "extremo norte do Mato Grosso do Sul;\n",
    "Mato Grosso;\n",
    "sul do Pará;\n",
    "e Tocantins.\n",
    "\n",
    "🟠Nessas regiões, os acumulados podem chegar a 100 milímetros por dia, com ventos intensos, de até 100 km/h. As chuvas previstas para esses locais foram classificadas pelo Inmet em um aviso meteorológico “laranja”, que qualifica as chuvas como de \"perigo\" (saiba mais abaixo).\n",
    "\n",
    "🔴Na Região Serrana do Rio de Janeiro, há um aviso meteorológico \"vermelho\", de 'grande perigo\", para o acumulado de chuva nos próximos dias. Os volumes podem superar os 100 milímetros por dia em alguns locais, com grande risco para alagamentos e deslizamentos.\n",
    "\n",
    "Segundo Fábio Luengo, meteorologista da Climatempo, a frente fria deve se formar nesta sexta em São Paulo e já avançar para os demais estados do Sudeste no sábado (9).\n",
    "\n",
    "Esse sistema deve canalizar umidade da Amazônia e levá-la para a região Centro-Oeste e para parte da região Norte.\n",
    "\n",
    "De acordo com o Inmet, há possibilidade da formação da Zona de Convergência do Atlântico Sul (entenda mais abaixo).\n",
    "\n",
    "Nas demais regiões do país, a previsão é de tempo mais firme:\n",
    "\n",
    "No Sul, o tempo deve ficar mais estável, com uma leve diminuição das temperaturas. \"O Sul pode ter um pouquinho de frio, mas nada de frio muito extremo\", diz Luengo.\n",
    "No Nordeste, a previsão é de tempo firme e seco. O sul da Bahia pode registrar alguns temporais no fim de semana.\n",
    "No domingo (10), a frente fria deve seguir avançando e atingir o sul da Bahia, o norte de Minas Gerais e o norte do Espírito Santo.\n",
    "\n",
    "Deve chover também no Amazonas, no Tocantins, no norte de Goiás, no Pará e em Rondônia.\n",
    "\n",
    "Já na próxima semana, a formação de um fenômeno conhecido como ciclone bomba (entenda abaixo) deve ser responsável por trazer ventos fortes e tempestades para o Sul.\n",
    "\n",
    "Apesar da trajetória prevista para o ciclone ser de afastamento da costa, avançando para alto-mar, as consequências devem ser sentidas especialmente no Rio Grande do Sul e em Santa Catarina.\n",
    "\n",
    "Corredor de umidade\n",
    "A frente fria vinda do oceano, que avança a partir do Sudeste, pode criar um corredor que deve canalizar umidade vinda da Amazônia. Segundo o Inmet, a atuação de um cavado também deve contribuir para a organização de uma faixa de nebulosidade na região.\n",
    "\n",
    "⛈️Cavados são áreas alongadas de baixa pressão. Esse fenômeno meteorológico acontece quando há uma corrente de vento que ajuda na formação de nuvens de tempestade.\n",
    "\n",
    "Esse cenário é potencial para a configuração da chamada Zona de Convergência do Atlântico Sul (ZCAS), segundo o instituto. Para que a ZCAS se estabeleça, é necessário que o canal de umidade persista por ao menos quatro dias consecutivos.\n",
    "\n",
    "▶️ A Zona de Convergência do Atlântico Sul (ZCAS) se caracteriza por uma extensa faixa de nuvens que normalmente vai do Norte ao Sudeste. O sistema é responsável por manter o tempo instável nessas regiões, gerando acumulados consideráveis de chuva.\n",
    "\n",
    "Ciclone bomba\n",
    "🌀 Após dias de tempo instável e chuvas fortes no Sul, os meteorologistas alertam para a possível formação de um ciclone bomba no Oceano Atlântico na próxima semana.\n",
    "\n",
    "\"Um ciclone bomba nada mais é que uma área de baixa pressão [no caso, um ciclone extratropical] ganha força muito rápido\", explica Luengo.\n",
    "O meteorologista também comenta que, por ser um fenômeno de rápida formação, a tendência é que seja um ciclone mais forte. Mas os efeitos dependem da distância entre o ciclone e o continente.\n",
    "\n",
    "Os modelos indicam que esse ciclone tem como trajetória um afastamento do Brasil, ou seja, não vai passar pelo país. Apesar disso, deve contribuir para o aumento da intensidade dos ventos no Sul, além de trazer tempestades para a região.\n",
    "\n",
    "As previsões atuais indicam que os ventos podem chegar a 80 km/h, especialmente no litoral do Rio Grande do Sul e de Santa Catarina, com possibilidade de ressaca.\n",
    "\n",
    "Com relação à chuva, Luengo destaca que os volumes devem ser expressivos.\n",
    "\n",
    "\"A chuva deve ser forte, mas nada tão catastrófico quanto os temporais visto em abril e maio na região\", compara.\n",
    "\n",
    "Avisos meteorológicos do Inmet\n",
    "O Inmet, atualmente ligado ao Ministério da Agricultura e Pecuária, mantém o “Alert-AS - Centro Virtual para Avisos de Eventos Meteorológicos Severos”.\n",
    "\n",
    "⚠️Além da previsão e do monitoramento do tempo em geral, entre outras atividades, o Inmet emite “avisos meteorológicos”, nos quais classifica em três níveis de intensidade o fenômeno observado: amarelo (perigo potencial), laranja (perigo) e vermelho (grande perigo).\n",
    "\n",
    "Os avisos do sistema Alert-AS do Inmet NÃO têm relação com os alertas oficiais, que são usados pela Defesa Civil quando há risco à população. Eles são feitos pelo Centro Nacional de Monitoramento e Alertas de Desastres Naturais, órgão ligado ao Ministério da Ciência, Tecnologia e Inovações (MCTI).\n",
    "\"\"\""
   ]
  },
  {
   "cell_type": "code",
   "execution_count": 3,
   "metadata": {},
   "outputs": [],
   "source": [
    "pergunta_resumo = f\"\"\"\n",
    "Faça um resumo da notícia abaixo, seguindo o exemplo:\n",
    "\n",
    "\"Notícia: Grammy divulga lista de indicados.\n",
    "\n",
    "Resumo: O Grammy divulgou a lista de indicados a premiação. Entre as principais categorias, temos \"Gravação do Ano\", \"Música do Ano\" e\n",
    "\"Álbum do Ano\", contando com artistas como Beyoncé, Billie Eilish, Charli XCX e Kendrick Lamar.\"\n",
    "\n",
    "{noticia}\n",
    "\"\"\""
   ]
  },
  {
   "cell_type": "code",
   "execution_count": 4,
   "metadata": {},
   "outputs": [
    {
     "name": "stdout",
     "output_type": "stream",
     "text": [
      "Resumo: O fim de semana será marcado por tempo instável em grande parte do país, com previsão de chuvas fortes no Sudeste, Centro-Oeste e parte do Norte, devido à formação de uma frente fria e à canalização de umidade da Amazônia. As regiões mais afetadas serão o nordeste de São Paulo, Minas Gerais, Rio de Janeiro, sul do Espírito Santo, Goiás, Distrito Federal, extremo norte do Mato Grosso do Sul, Mato Grosso, sul do Pará e Tocantins, com risco de temporais e acumulados de chuva que podem chegar a 100 mm por dia. Na Região Serrana do Rio de Janeiro, há risco de grande perigo com volumes de chuva superiores a 100 mm por dia. A frente fria deve avançar para o sul da Bahia, norte de Minas Gerais e norte do Espírito Santo no domingo. A formação de um ciclone bomba na próxima semana deve trazer ventos fortes e tempestades para o Sul, principalmente no Rio Grande do Sul e Santa Catarina, apesar de sua trajetória ser em alto-mar. O Sul terá tempo mais estável com leve redução de temperatura, enquanto o Nordeste terá tempo firme e seco, com exceção do sul da Bahia que pode ter temporais no fim de semana. \n",
      "\n"
     ]
    }
   ],
   "source": [
    "modelo = genai.GenerativeModel('gemini-1.5-flash')\n",
    "\n",
    "resposta_resumo = modelo.generate_content(pergunta_resumo)\n",
    "print(resposta_resumo.text)"
   ]
  },
  {
   "cell_type": "markdown",
   "metadata": {},
   "source": [
    "• **Análise do Resumo**\n",
    "\n",
    "O resumo da notícia foi satisfatório, as informações foram relatadas de maneira correta e sucinta.\n",
    "\n",
    "A listagem das regiões e dos climas está correta, e o modelo até criou novas sentenças que expressam o mesmo significado. Por exemplo, ao falar da região Sul ele trocou \"uma leve diminuição das temperaturas\" por \"temperaturas amenas\".\n",
    "\n",
    "Porém, há um detalhe confuso para destacar. A notícia deixa claro que o ciclone bomba no Oceano Atlântico NÃO passará pelo Brasil, mas que contribuirá para o aumento de ventos apesar desse afastamento. No resumo, o modelo cria uma frase que me leva a entender que os ventos fortes e tempestades são consequência da passagem do ciclone pelo país.\n",
    "\n",
    "---"
   ]
  }
 ],
 "metadata": {
  "kernelspec": {
   "display_name": ".venv_tp2",
   "language": "python",
   "name": "python3"
  },
  "language_info": {
   "codemirror_mode": {
    "name": "ipython",
    "version": 3
   },
   "file_extension": ".py",
   "mimetype": "text/x-python",
   "name": "python",
   "nbconvert_exporter": "python",
   "pygments_lexer": "ipython3",
   "version": "3.12.4"
  }
 },
 "nbformat": 4,
 "nbformat_minor": 2
}
