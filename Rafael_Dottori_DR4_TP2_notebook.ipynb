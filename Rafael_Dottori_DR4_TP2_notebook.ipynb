{
 "cells": [
  {
   "cell_type": "markdown",
   "metadata": {},
   "source": [
    "# **Engenharia de Prompts para Ciência de Dados**\n",
    "# **Teste de Performance 2 (TP2)**\n",
    "\n",
    "## Instituto Infnet - Rafael Dottori de Oliveira\n",
    "\n",
    "### 11/11/2024\n",
    "\n",
    "---"
   ]
  },
  {
   "cell_type": "markdown",
   "metadata": {},
   "source": [
    "### **Enunciado**"
   ]
  },
  {
   "cell_type": "markdown",
   "metadata": {},
   "source": [
    "***Orientações***\n",
    "\n",
    "*O código deve ser disponibilizado no GitHub.*\n",
    "\n",
    "*Notebooks com respostas devem ser exportados para pdf e anexados no sistema.*\n",
    "\n",
    "*Respostas usando o Poe.com devem ser enviadas como print-screens salvos num documento (google docs, word…) e exportados em pdf para submissão no sistema.*\n",
    "\n",
    "*Os aluno devem enviar 1 pdf com o notebook e 1 pdf com o documento (Poe.com)*\n",
    "\n",
    "\n",
    "***Avaliações Positivas***\n",
    "\n",
    "*Código funcional, organizado, comentado e formatado.*\n",
    "\n",
    "*Códigos mantidos em repositórios Git.*\n",
    "\n",
    "*Questões discursivas serão avaliadas segundo a profundidade dos argumentos.*\n",
    "\n",
    "*Exposição de tabelas para argumentação.*\n",
    "\n",
    "*Diagramas quando solicitados, para arquiteturas e fluxos de informação.*\n",
    "\n",
    "*Plots devem possuir título, labels, unidades dos eixos x e y, legendas e grid.*\n",
    "\n",
    "\n",
    "***Avaliações Negativas***\n",
    "\n",
    "*Respostas simples para as perguntas discursivas.*\n",
    "\n",
    "*Códigos gerados por prompts.*\n",
    "\n",
    "*Plots sem capricho, não auto-explicativas.*\n",
    "\n",
    "*Desorganização do repositório Git.*\n",
    "\n",
    "*Desorganização do material enviado para avaliação.*\n",
    "\n",
    "*Envio de arquivos compactados com o repositório.*\n",
    "\n",
    "*Material enviado sem o link para o repositório Git.*\n",
    "\n",
    "---"
   ]
  },
  {
   "cell_type": "markdown",
   "metadata": {},
   "source": [
    "## **Exercício 1: Princípios de Criação de Prompts Eficazes**\n",
    "\n",
    "*Alguns princípios são essenciais para a construção de prompts claros e obtenção de respostas precisas. Identifique e explique quais princípios foram utilizados no prompt abaixo:*\n",
    "   \n",
    "    Como um especialista em turismo, liste 3 atrações turísticas imperdíveis de Paris e forneça uma breve descrição para cada uma delas. Aqui está um exemplo do formato esperado:\n",
    "\n",
    "    Atração 1: Torre Eiffel\n",
    "\n",
    "    Descrição: Um dos monumentos mais icônicos do mundo, conhecido por sua estrutura de ferro e vista panorâmica da cidade."
   ]
  },
  {
   "cell_type": "markdown",
   "metadata": {},
   "source": [
    "No exemplo acima podemos observar três princípios da engenharia de *prompts*, que se baseiam nos elementos principais das perguntas:\n",
    "\n",
    "• **Direcionamento**: Temos instruções claras da tarefa, com o contexto (o local exato da viagem) e até a persona que deve responder (especialista em turismo).\n",
    "\n",
    "• **Formatação**: O *prompt* especifica exatamente qual o formato em que a pergunta deve ser respondida — uma lista de três respostas com a descrição de cada.\n",
    "\n",
    "• **Exemplos**: Por fim, seguindo essa formatação, um exemplo de resposta é fornecido seguindo o contexto da pergunta.\n",
    "\n",
    "---"
   ]
  },
  {
   "cell_type": "markdown",
   "metadata": {},
   "source": [
    "## **Exercício 2: Simulação de Atendimento ao Cliente com Diferentes Personas**\n",
    "\n",
    "*Vamos simular uma situação de telemarketing onde persona e tom são críticos para o sucesso da interação. Para criarmos uma base de treinamento dos operadores, simule duas respostas para o mesmo atendimento, ora com um cliente agressivo, ora com um cliente tranquilo. Crie e teste um prompt (Poe.com) para cada situação a partir do atendimento:*\n",
    "\n",
    "    “Bom dia, me chamo João e lhe trago hoje uma promoção imperdível sobre a sua assinatura de internet móvel. Por mais 20 reais, consigo lhe oferecer 10GB a mais na sua franquia. Quando podemos estar agendando a sua migração?”\n",
    "\n",
    "*Descreva o comportamento do cliente nas duas situações. As respostas saíram como o esperado?*"
   ]
  },
  {
   "cell_type": "markdown",
   "metadata": {},
   "source": [
    "• **Cliente Agressivo**\n",
    "\n",
    "![cliente_agressivo](./Capturas%20de%20Tela/Exercício%202%20-%20Cliente%20Agressivo.png)\n",
    "\n",
    "• **Cliente Tranquilo**\n",
    "\n",
    "![cliente_tranquilo](./Capturas%20de%20Tela/Exercício%202%20-%20Cliente%20Tranquilo.png)\n",
    "\n",
    "• **Avaliação das Respostas**\n",
    "\n",
    "Pelo Poe.com, pedi ao GPT-4o que respondesse nos dois tons solicitados e ambas as respostas saíram conforme o esperado.\n",
    "\n",
    "O modelo soube compreender o contexto da pergunta sobre um plano de internet móvel — o que fica mais claro na resposta agressiva, que foi mais longa — e respondeu de acordo com as personas estabelecidas.\n",
    "\n",
    "O de tom agressivo reclama da oferta já que nem o plano atual não o agrada, usando pontos de exclamação pra enfatizar a mensagem. O de tom tranquilo agradece o contato mas recusa cordialmente a oferta.\n",
    "\n",
    "---"
   ]
  },
  {
   "cell_type": "markdown",
   "metadata": {},
   "source": [
    "## **Exercício 3: Automação de Mensagens Promocionais com Princípios de Prompting**\n",
    "\n",
    "*A empresa de turismo viagens.com deseja automatizar o processo de criação de envio de mensagens para clientes, informando-lhes sobre promoções recentes.*\n",
    "\n",
    "*Escreva um prompt que contenha os três princípios de 1) persona, 2) dados e 3) tom para gerar a mensagem automática.*\n",
    "\n",
    "*Execute o prompt usando a sua conta Poe.com e justifique se o LLM respondeu como esperado.*"
   ]
  },
  {
   "cell_type": "markdown",
   "metadata": {},
   "source": [
    "• **Pergunta**\n",
    "\n",
    "Como parte da empresa de turismo \"viagens.com\", crie mensagens sobre promoções de pacotes de viagens para enviar aos clientes, incluindo o destino, preço e uma breve descrição do pacote. As mensagens devem ser educadas, de forma que satisfaçam até os clientes que não estejam interessados nas ofertas.\n",
    "\n",
    "Exemplos de Dados:\n",
    "\"1 - Destino: Caribe. Temporada: Verão. Número de Pessoas: entre 2 e 5.\n",
    "2 - Destino: Europa. Temporada: Primavera. Número de Pessoas: 2.\n",
    "3 - Destino: Nordeste do Brasil. Temporada: Réveillon. Número de Pessoas: entre 2 e 10.\"\n",
    "\n",
    "![pergunta_viagens](./Capturas%20de%20Tela/Exercício%203%20-%20Pergunta.png)\n",
    "\n",
    "• **Resposta**\n",
    "\n",
    "![resposta_viagens](./Capturas%20de%20Tela/Exercício%203%20-%20Resposta.png)\n",
    "\n",
    "• **Avaliação das Respostas**\n",
    "\n",
    "Novamente usamos o GPT-4o pelo Poe e criamos um *prompt* para criar ofertas de viagens pela empresa \"viagens.com\".\n",
    "\n",
    "O modelo seguiu corretamente a persona (e-mail promocional da agência de turismo), contexto (promoções de viagem) e tom solicitados (tom cordial, para lidar com clientes).\n",
    "\n",
    "Porém, já que foi pedido que seguissemos o princípio de dados (não só de contexto ou exemplo), informei na pergunta dados específicos dos pacotes de viagens. O modelo acabou seguindo estritamente as informações que forneci. Apesar de, sim, ser exatamente o que solicitei no *prompt*, caso quiséssemos novas ideias de viagens poderíamos especificar para que usasse os dados somente como exemplo e que oferecesse outros pacotes.\n",
    "\n",
    "---"
   ]
  },
  {
   "cell_type": "markdown",
   "metadata": {},
   "source": [
    "## **Exercício 4: Desenvolvimento de Prompts para Recomendação de Produtos**\n",
    "\n",
    "*Você está desenvolvendo um sistema de recomendações de produtos para um e-commerce. Crie dois prompts com base nos princípios de prompting, sendo o primeiro um prompt simples e o segundo um prompt com exemplos (few-shot prompting).*\n",
    "\n",
    "*Utilize o Poe.com para testar os prompts com um LLM, comparando os resultados gerados. Qual dos prompts foi mais eficaz e por quê?*"
   ]
  },
  {
   "cell_type": "markdown",
   "metadata": {},
   "source": [
    "• ***Prompt* Simples**\n",
    "\n",
    "Me dê recomendações de produtos como em um e-commerce.\n",
    "\n",
    "![recomandacao_simples](./Capturas%20de%20Tela/Exercício%204%20-%20Pergunta%20Simples.png)\n",
    "\n",
    "• ***Prompt* com Exemplos**\n",
    "\n",
    "Como um e-commerce, indique produtos seguindo o formato dos exemplos:\n",
    "\n",
    "\"Produto: Nintendo Switch. Preço: R$2.200,00. Descrição: Console que funciona tanto em modo portátil como ligado a sua televisão.\"\n",
    "\n",
    "\"Produto: Cadeira de Escritório. Preço: R$1.500,00. Descrição: Cadeira confortável para quem trabalha o dia inteiro sentado.\"\n",
    "\n",
    "![recomendacao_exemplo](./Capturas%20de%20Tela/Exercício%204%20-%20Pergunta%20com%20Exemplos.png)\n",
    "\n",
    "• **Avaliação das Respostas**\n",
    "\n",
    "Do jeito que a pergunta foi feita, o modelo levou os exemplos do segundo *prompt* de maneira muito específica e recomendou apenas produtos relacionados aos dois itens que forneci — um jogo eletrônico e uma cadeira de escritório.\n",
    "\n",
    "Por outro lado, alguns dos produtos acabaram sendo mais específicos e, portanto, mais parecidos com a realidade (o modelo deu o nome de um jogo e um acessório que realmente existem), enquanto os do *prompt* simples foram produtos com nomes e especificações genéricos e sem nenhuma marca.\n",
    "\n",
    "---"
   ]
  },
  {
   "cell_type": "markdown",
   "metadata": {},
   "source": [
    "## **Exercício 5: Listagem de Componentes de Computadores de Alto Desempenho**\n",
    "\n",
    "*Utilize o Poe.com para criar um prompt simples que faça o LLM listar os principais componentes de um computador de alto desempenho, suas capacidades computacionais (HD, RAM, CPU, GPU…), marcas, modelos e preços.*\n",
    "\n",
    "*Teste o prompt e explique se o resultado atendeu às expectativas: as marcas e modelos existem? As capacidades do computador são de alto desempenho? Compare com fontes encontradas na internet.*"
   ]
  },
  {
   "cell_type": "markdown",
   "metadata": {},
   "source": [
    "• ***Prompt***\n",
    "\n",
    "Liste os principais componentes de um computador de alto desempenho: para cada componente (discos, memória, processador, placa de vídeo, etc.) liste seus detalhes e capacidades, marcas e preço (considerando a moeda e realidade do mercado brasileiro).\n",
    "\n",
    "• **Resposta**\n",
    "\n",
    "![resposta_componentes](./Capturas%20de%20Tela/Exercício%205%20-%20Componentes%20do%20Comptuador.png)\n",
    "\n",
    "• **Avaliação da Resposta**\n",
    "\n",
    "Primeiramente, tivemos que refazer a pergunta para incluir o contexto de preços em Real e considerando o nosso mercado.\n",
    "\n",
    "De maneira geral, a resposta está coerente com a realidade.\n",
    "\n",
    "Alguns detalhes são mais vagos que outros, como o dos processadores que diz \"alto número de núcleos e *threads*\" sem especificar quantos são.\n",
    "\n",
    "Os preços estão dentro do esperado após realizar algumas consultas em lojas de eletrônicos (como Kabum ou o setor de informática da Amazon), embora a margem dos valores esteja um pouco espaçada demais — por exemplo, GPUs entre R$10.000 e R$15.000.\n",
    "\n",
    "Por fim, acredito que todos os modelos estejam com os nomes corretos: de fato pertencem as marcas descritas e estão descrevendo os componentes certos (ASUS: ROG Strix Z790 é realmente uma placa-mãe, etc.)\n",
    "\n",
    "---"
   ]
  },
  {
   "cell_type": "markdown",
   "metadata": {},
   "source": [
    "## **Exercício 6: Análise dos Benefícios da Inteligência Artificial para Pequenas Empresas**\n",
    "\n",
    "*Desenvolva um prompt simples para que o LLM forneça uma análise rápida sobre os benefícios de usar inteligência artificial em pequenas empresas.*\n",
    "\n",
    "*Qual foi o resultado gerado pelo LLM? Aplique os princípios de prompt para obter resultados mais precisos.*\n",
    "\n",
    "*Teste os prompts na sua conta do Poe.com e copie os prompts e respectivas saídas, junto com a explicação do que foi feito entre um prompt e outro.*"
   ]
  },
  {
   "cell_type": "markdown",
   "metadata": {},
   "source": [
    "• **Pergunta Simples**\n",
    "\n",
    "![analise_rapida](./Capturas%20de%20Tela/Exercício%206%20-%20Análise%20Rápida.png)\n",
    "\n",
    "• **Pergunta Direcionada**\n",
    "\n",
    "![analise_direcionada](./Capturas%20de%20Tela/Exercício%206%20-%20Análise%20Direcionada.png)\n",
    "\n",
    "• **Explicação das Mudanças e Análise dos Resultados**\n",
    "\n",
    "A primeira resposta estava muito vaga e simples (afinal, solicitei uma análise rápida).\n",
    "\n",
    "Para o segundo *prompt*, além de eliminar o adjetivo \"rápido\", formatei a pergunta de outra maneira, pedindo para que o modelo gerasse casos práticos para diferentes áreas (para que as respostas fossem menos vagas) e forneci um exemplo.\n",
    "\n",
    "Embora as respostas ainda tenham ficado um tanto sucintas, o direcionamento dos exemplos nos ajuda a entender melhor os benefícios descritos.\n",
    "\n",
    "---"
   ]
  },
  {
   "cell_type": "markdown",
   "metadata": {},
   "source": [
    "## **Exercício 7: Resumo de Notícia Utilizando Exemplos em Prompts**\n",
    "\n",
    "*Usando a API Gemini, crie um notebook que utilize prompts para resumir uma notícia (escolha da página principal de um portal de notícias e copie no notebook).*\n",
    "\n",
    "*O prompt deve solicitar um resumo dessa notícia usando o princípio de Exemplos para guiar a resposta do LLM. Teste o código e avalie a qualidade do resumo gerado.*"
   ]
  },
  {
   "cell_type": "code",
   "execution_count": 3,
   "metadata": {},
   "outputs": [],
   "source": [
    "import google.generativeai as genai\n",
    "from dotenv import load_dotenv\n",
    "import os\n",
    "\n",
    "load_dotenv('./.env')\n",
    "\n",
    "genai.configure(api_key=os.environ['GEMINI_KEY'])"
   ]
  },
  {
   "cell_type": "markdown",
   "metadata": {},
   "source": [
    "https://g1.globo.com/meio-ambiente/noticia/2024/11/08/centro-sul-deve-ter-tempo-instavel-no-fim-de-semana-ciclone-bomba-chega-nos-proximos-dias.ghtml"
   ]
  },
  {
   "cell_type": "code",
   "execution_count": 4,
   "metadata": {},
   "outputs": [],
   "source": [
    "noticia = \"\"\"\n",
    "Depois de uma semana de muitas pancadas de chuva, o fim de semana deve ser de tempo instável em boa parte do país. De acordo com a Climatempo, uma frente fria deve ser formar no Sudeste ainda nesta sexta-feira (8) e canalizar umidade vinda da Amazônia.\n",
    "\n",
    "Segundo o Instituto Nacional de Meteorologia (Inmet), há risco de temporais nos seguintes locais:\n",
    "\n",
    "nordeste de São Paulo;\n",
    "Minas Gerais;\n",
    "Rio de Janeiro;\n",
    "sul do Espírito Santo;\n",
    "Goiás;\n",
    "Distrito Federal;\n",
    "extremo norte do Mato Grosso do Sul;\n",
    "Mato Grosso;\n",
    "sul do Pará;\n",
    "e Tocantins.\n",
    "\n",
    "🟠Nessas regiões, os acumulados podem chegar a 100 milímetros por dia, com ventos intensos, de até 100 km/h. As chuvas previstas para esses locais foram classificadas pelo Inmet em um aviso meteorológico “laranja”, que qualifica as chuvas como de \"perigo\" (saiba mais abaixo).\n",
    "\n",
    "🔴Na Região Serrana do Rio de Janeiro, há um aviso meteorológico \"vermelho\", de 'grande perigo\", para o acumulado de chuva nos próximos dias. Os volumes podem superar os 100 milímetros por dia em alguns locais, com grande risco para alagamentos e deslizamentos.\n",
    "\n",
    "Segundo Fábio Luengo, meteorologista da Climatempo, a frente fria deve se formar nesta sexta em São Paulo e já avançar para os demais estados do Sudeste no sábado (9).\n",
    "\n",
    "Esse sistema deve canalizar umidade da Amazônia e levá-la para a região Centro-Oeste e para parte da região Norte.\n",
    "\n",
    "De acordo com o Inmet, há possibilidade da formação da Zona de Convergência do Atlântico Sul (entenda mais abaixo).\n",
    "\n",
    "Nas demais regiões do país, a previsão é de tempo mais firme:\n",
    "\n",
    "No Sul, o tempo deve ficar mais estável, com uma leve diminuição das temperaturas. \"O Sul pode ter um pouquinho de frio, mas nada de frio muito extremo\", diz Luengo.\n",
    "No Nordeste, a previsão é de tempo firme e seco. O sul da Bahia pode registrar alguns temporais no fim de semana.\n",
    "No domingo (10), a frente fria deve seguir avançando e atingir o sul da Bahia, o norte de Minas Gerais e o norte do Espírito Santo.\n",
    "\n",
    "Deve chover também no Amazonas, no Tocantins, no norte de Goiás, no Pará e em Rondônia.\n",
    "\n",
    "Já na próxima semana, a formação de um fenômeno conhecido como ciclone bomba (entenda abaixo) deve ser responsável por trazer ventos fortes e tempestades para o Sul.\n",
    "\n",
    "Apesar da trajetória prevista para o ciclone ser de afastamento da costa, avançando para alto-mar, as consequências devem ser sentidas especialmente no Rio Grande do Sul e em Santa Catarina.\n",
    "\n",
    "Corredor de umidade\n",
    "A frente fria vinda do oceano, que avança a partir do Sudeste, pode criar um corredor que deve canalizar umidade vinda da Amazônia. Segundo o Inmet, a atuação de um cavado também deve contribuir para a organização de uma faixa de nebulosidade na região.\n",
    "\n",
    "⛈️Cavados são áreas alongadas de baixa pressão. Esse fenômeno meteorológico acontece quando há uma corrente de vento que ajuda na formação de nuvens de tempestade.\n",
    "\n",
    "Esse cenário é potencial para a configuração da chamada Zona de Convergência do Atlântico Sul (ZCAS), segundo o instituto. Para que a ZCAS se estabeleça, é necessário que o canal de umidade persista por ao menos quatro dias consecutivos.\n",
    "\n",
    "▶️ A Zona de Convergência do Atlântico Sul (ZCAS) se caracteriza por uma extensa faixa de nuvens que normalmente vai do Norte ao Sudeste. O sistema é responsável por manter o tempo instável nessas regiões, gerando acumulados consideráveis de chuva.\n",
    "\n",
    "Ciclone bomba\n",
    "🌀 Após dias de tempo instável e chuvas fortes no Sul, os meteorologistas alertam para a possível formação de um ciclone bomba no Oceano Atlântico na próxima semana.\n",
    "\n",
    "\"Um ciclone bomba nada mais é que uma área de baixa pressão [no caso, um ciclone extratropical] ganha força muito rápido\", explica Luengo.\n",
    "O meteorologista também comenta que, por ser um fenômeno de rápida formação, a tendência é que seja um ciclone mais forte. Mas os efeitos dependem da distância entre o ciclone e o continente.\n",
    "\n",
    "Os modelos indicam que esse ciclone tem como trajetória um afastamento do Brasil, ou seja, não vai passar pelo país. Apesar disso, deve contribuir para o aumento da intensidade dos ventos no Sul, além de trazer tempestades para a região.\n",
    "\n",
    "As previsões atuais indicam que os ventos podem chegar a 80 km/h, especialmente no litoral do Rio Grande do Sul e de Santa Catarina, com possibilidade de ressaca.\n",
    "\n",
    "Com relação à chuva, Luengo destaca que os volumes devem ser expressivos.\n",
    "\n",
    "\"A chuva deve ser forte, mas nada tão catastrófico quanto os temporais visto em abril e maio na região\", compara.\n",
    "\n",
    "Avisos meteorológicos do Inmet\n",
    "O Inmet, atualmente ligado ao Ministério da Agricultura e Pecuária, mantém o “Alert-AS - Centro Virtual para Avisos de Eventos Meteorológicos Severos”.\n",
    "\n",
    "⚠️Além da previsão e do monitoramento do tempo em geral, entre outras atividades, o Inmet emite “avisos meteorológicos”, nos quais classifica em três níveis de intensidade o fenômeno observado: amarelo (perigo potencial), laranja (perigo) e vermelho (grande perigo).\n",
    "\n",
    "Os avisos do sistema Alert-AS do Inmet NÃO têm relação com os alertas oficiais, que são usados pela Defesa Civil quando há risco à população. Eles são feitos pelo Centro Nacional de Monitoramento e Alertas de Desastres Naturais, órgão ligado ao Ministério da Ciência, Tecnologia e Inovações (MCTI).\n",
    "\"\"\""
   ]
  },
  {
   "cell_type": "code",
   "execution_count": 5,
   "metadata": {},
   "outputs": [],
   "source": [
    "pergunta_resumo = f\"\"\"\n",
    "Faça um resumo da notícia abaixo, seguindo o exemplo:\n",
    "\n",
    "\"Notícia: Grammy divulga lista de indicados.\n",
    "\n",
    "Resumo: O Grammy divulgou a lista de indicados a premiação. Entre as principais categorias, temos \"Gravação do Ano\", \"Música do Ano\" e\n",
    "\"Álbum do Ano\", contando com artistas como Beyoncé, Billie Eilish, Charli XCX e Kendrick Lamar.\"\n",
    "\n",
    "{noticia}\n",
    "\"\"\""
   ]
  },
  {
   "cell_type": "code",
   "execution_count": 6,
   "metadata": {},
   "outputs": [
    {
     "name": "stdout",
     "output_type": "stream",
     "text": [
      "Resumo: O fim de semana será de tempo instável em grande parte do Brasil, com previsão de chuvas fortes no Sudeste, Centro-Oeste e Norte. Uma frente fria se formará no Sudeste na sexta-feira (8), canalizando umidade da Amazônia e causando temporais com risco de alagamentos e deslizamentos. A Região Serrana do Rio de Janeiro está sob alerta vermelho de \"grande perigo\". No Sul, o tempo será mais firme, com leve queda de temperatura. No Nordeste, o tempo será seco, exceto no sul da Bahia que pode ter temporais. No final de semana, a frente fria deve avançar para o sul da Bahia, norte de Minas Gerais e norte do Espírito Santo. Na próxima semana, um ciclone bomba se formará no Oceano Atlântico, provocando ventos fortes e tempestades no Sul, especialmente no Rio Grande do Sul e Santa Catarina.  \n",
      "\n"
     ]
    }
   ],
   "source": [
    "modelo = genai.GenerativeModel('gemini-1.5-flash')\n",
    "\n",
    "resposta_resumo = modelo.generate_content(pergunta_resumo)\n",
    "print(resposta_resumo.text)"
   ]
  },
  {
   "cell_type": "markdown",
   "metadata": {},
   "source": [
    "• **Análise do Resumo**\n",
    "\n",
    "O resumo da notícia foi satisfatório, as informações foram relatadas de maneira correta e sucinta.\n",
    "\n",
    "A listagem das regiões e dos climas está correta, e o modelo até criou novas sentenças que expressam o mesmo significado. Por exemplo, ao falar da região Sul ele trocou \"uma leve diminuição das temperaturas\" por \"temperaturas amenas\".\n",
    "\n",
    "Porém, há um detalhe confuso para destacar. A notícia deixa claro que o ciclone bomba no Oceano Atlântico NÃO passará pelo Brasil, mas que contribuirá para o aumento de ventos apesar desse afastamento. No resumo, o modelo cria uma frase que me leva a entender que os ventos fortes e tempestades são consequência da passagem do ciclone pelo país.\n",
    "\n",
    "---"
   ]
  },
  {
   "cell_type": "markdown",
   "metadata": {},
   "source": [
    "## **Exercício 8: Identificação de Entidades em Notícias com LLM**\n",
    "\n",
    "*Uma consultoria lhe contratou para automatizar a descoberta de pessoas mencionadas em notícias de jornal.*\n",
    "\n",
    "*Com base no Exercício 7, escolha 3 notícias e monte uma aplicação com um prompt para o LLM identificar menções a diferentes entidades em cada notícia (como pessoas, órgãos públicos, empresas…).*\n",
    "\n",
    "*Implemente um notebook para testar o código usando a API do Gemini. Descreva o prompt, seus resultados e avalie se a resposta do modelo atende às expectativas da consultoria.*"
   ]
  },
  {
   "cell_type": "code",
   "execution_count": 7,
   "metadata": {},
   "outputs": [],
   "source": [
    "lista_noticias = [\n",
    "'https://www.tecmundo.com.br/voxel/294816-gta-6-rodara-problemas-xbox-series-s-sugere-dona-rockstar.htm',\n",
    "'https://www.tecmundo.com.br/mercado/400023-nvidia-supera-apple-e-e-a-empresa-mais-valiosa-do-mundo.htm',\n",
    "'https://www.tecmundo.com.br/voxel/294786-sega-removera-jogos-classicos-mega-drive-steam-outras-plataformas-veja-lista-afetados.htm'\n",
    "]"
   ]
  },
  {
   "cell_type": "code",
   "execution_count": 8,
   "metadata": {},
   "outputs": [],
   "source": [
    "import requests\n",
    "from bs4 import BeautifulSoup as bs\n",
    "\n",
    "texto_noticias = []\n",
    "\n",
    "for noticia in lista_noticias:\n",
    "    resp = requests.get(noticia)\n",
    "    soup = bs(resp.text)\n",
    "    texto = soup.select('article > div > div > p')\n",
    "    texto_noticias.append(texto)"
   ]
  },
  {
   "cell_type": "code",
   "execution_count": 9,
   "metadata": {},
   "outputs": [
    {
     "name": "stdout",
     "output_type": "stream",
     "text": [
      "NOTÍCIA 1: https://www.tecmundo.com.br/voxel/294816-gta-6-rodara-problemas-xbox-series-s-sugere-dona-rockstar.htm\n",
      "## Entidades mencionadas na notícia:\n",
      "\n",
      "**Pessoas:**\n",
      "\n",
      "* **Strauss Zelnick:** CEO da Take-Two\n",
      "* **Jogadores:**  Mencionados como o público-alvo dos jogos\n",
      "\n",
      "**Empresas:**\n",
      "\n",
      "* **Take-Two:** Publisher dona da Rockstar\n",
      "* **Rockstar:** Desenvolvedora da série Grand Theft Auto\n",
      "* **Voxel:** Site de notícias de games (mencionado no final)\n",
      "\n",
      "**Jogos:**\n",
      "\n",
      "* **Grand Theft Auto 6 (GTA 6):** Jogo em desenvolvimento e foco principal da notícia\n",
      "* **Grand Theft Auto (GTA):** Série de jogos de mundo aberto\n",
      "\n",
      "**Plataformas:**\n",
      "\n",
      "* **Xbox Series S:** Console de videogame da Microsoft, foco da discussão sobre desempenho do jogo\n",
      "* **Xbox Series X:** Console de videogame da Microsoft\n",
      "* **PlayStation 5 (PS5):** Console de videogame da Sony\n",
      "* **PC:** Plataforma de computadores pessoais\n",
      "\n",
      "**Objetos:**\n",
      "\n",
      "* **Hardware:** Equipamento físico de computadores, como consoles e placas gráficas\n",
      "* **Consoles:** Dispositivos de videogame\n",
      "* **Teleconferência:** Reunião virtual para discussão de resultados financeiros\n",
      "\n",
      "**Outras entidades:**\n",
      "\n",
      "* **Redes sociais:** Espaços online onde os jogadores discutem o jogo\n",
      "* **Plataformas onde os consumidores estão:**  Expressão genérica para indicar onde os jogadores estão presentes\n",
      "* **Opções de hardware mais fracas:** Equipamento de menor capacidade de processamento\n",
      "* **Ótimas experiências:** Objetivo dos desenvolvedores, oferecer uma experiência satisfatória para os jogadores\n",
      "* **Principal pilar:** Importância da plataforma PC para a Take-Two\n",
      "* **Público grande o suficiente:**  Número de jogadores em determinada plataforma que justifica o desenvolvimento\n",
      "* **Sequência:** Nova versão do jogo, neste caso, GTA 6 \n",
      "\n",
      "**Conceitos:**\n",
      "\n",
      "* **Expectativa:** Anticipação do lançamento do jogo pelos jogadores\n",
      "* **Mundo aberto:** Estilo de jogo onde o jogador tem grande liberdade para explorar\n",
      "* **Poder de renderização:** Capacidade de gerar imagens e efeitos visuais\n",
      "* **Níveis de tecnologia:** Diferentes capacidades de processamento entre plataformas\n",
      "* **Controle:** Poder de influenciar o hardware disponível\n",
      "* **Valor:** Importância de uma plataforma para uma empresa\n",
      "* **Lançamento:** Data em que o jogo estará disponível para compra e jogo\n",
      "\n",
      "NOTÍCIA 2: https://www.tecmundo.com.br/mercado/400023-nvidia-supera-apple-e-e-a-empresa-mais-valiosa-do-mundo.htm\n",
      "## Entidades mencionadas na notícia:\n",
      "\n",
      "**Empresas:**\n",
      "\n",
      "* **Nvidia:** Líder em IA, fabricante de GPUs, empresa de Jensen Huang\n",
      "* **Apple:** Criadora do iPhone, empresa de Tim Cook\n",
      "* **Microsoft:** Empresa que foi superada pela Nvidia em junho\n",
      "* **Arm:** Empresa que desenvolve chipsets para a Nvidia \n",
      "\n",
      "**Pessoas:**\n",
      "\n",
      "* **Jensen Huang:** CEO da Nvidia\n",
      "* **Tim Cook:** CEO da Apple\n",
      "\n",
      "**Objetos:**\n",
      "\n",
      "* **GPUs:** Placas de vídeo fabricadas pela Nvidia\n",
      "* **Chips:** Componente essencial para a tecnologia de IA\n",
      "* **Data Centers:** Centros de dados que utilizam aceleradores de IA da Nvidia\n",
      "* **Placas de vídeo RTX 50:** Próxima geração de placas de vídeo da Nvidia\n",
      "* **Apple Intelligence:** Pacote de inteligência artificial para iPhones\n",
      "* **Blackwell:** Arquitetura de GPUs da Nvidia para uso profissional\n",
      "* **iPhone:** Smartphone fabricado pela Apple\n",
      "\n",
      "**Conceitos e informações:**\n",
      "\n",
      "* **IA (Inteligência Artificial):**  Campo da tecnologia em que a Nvidia é líder \n",
      "* **Valor de mercado:** O valor total de uma empresa, baseado no preço das suas ações\n",
      "* **Ações:** Unidade de participação em uma empresa negociada na bolsa de valores\n",
      "* **Mercado de ações:**  Local onde as ações são negociadas\n",
      "* **Big Techs:**  Grandes empresas de tecnologia\n",
      "* **Lucro:**  A diferença entre as receitas e os custos de uma empresa \n",
      "\n",
      "**Outras entidades:**\n",
      "\n",
      "* **iPhone:** Produto da Apple\n",
      "* **Setembro de 2025:** Data prevista para lançamento de um novo chip da Nvidia\n",
      "* **Junho e Outubro de 2024:** Meses em que a Nvidia superou a Apple no valor de mercado\n",
      "* **Primeiro trimestre de 2025:** Data prevista para lançamento das placas de vídeo RTX 50\n",
      "* **17%:** Valorização das ações da Apple em 2024\n",
      "* **US$ 3,39 trilhões:** Valor de mercado da Nvidia quando ultrapassou a Apple\n",
      "* **US$ 3,61 trilhões:**  Valor de mercado da Nvidia no final de sexta-feira (8) \n",
      "\n",
      "NOTÍCIA 3: https://www.tecmundo.com.br/voxel/294786-sega-removera-jogos-classicos-mega-drive-steam-outras-plataformas-veja-lista-afetados.htm\n",
      "## Entidades mencionadas na notícia:\n",
      "\n",
      "**Pessoas:**\n",
      "\n",
      "* Jogadores\n",
      "\n",
      "**Empresas:**\n",
      "\n",
      "* SEGA\n",
      "* Steam\n",
      "* Sony (PS Store)\n",
      "* Microsoft (Microsoft Store)\n",
      "* Nintendo (Nintendo eShop)\n",
      "* Voxel\n",
      "\n",
      "**Objetos:**\n",
      "\n",
      "* Jogos clássicos da SEGA\n",
      "* Pacotes de jogos\n",
      "* Lista de jogos\n",
      "* Plataformas digitais: Steam, PS Store, Microsoft Store, Nintendo eShop\n",
      "* Nintendo Switch Online (serviço de assinatura)\n",
      "\n",
      "**Conceitos:**\n",
      "\n",
      "* Coleção digital de jogos\n",
      "* Remoção de jogos\n",
      "* Acesso a jogos\n",
      "* FAQ (Perguntas Frequentes)\n",
      "* Biblioteca digital de jogos\n",
      "* Serviço de assinatura \n",
      "\n",
      "**Outros:**\n",
      "\n",
      "* Data: 6 de dezembro de 2024\n",
      "* Número: Mais de 60 jogos\n",
      "* Títulos de jogos específicos: Crazy Taxi, Ecco the Dolphin, Jet Set Radio \n",
      "* Redes sociais do Voxel \n",
      "\n"
     ]
    }
   ],
   "source": [
    "for contagem, noticia in enumerate(texto_noticias):\n",
    "    pergunta = f\"\"\"\"\n",
    "    Identifique na notícia abaixo as principais entidades mencionadas, como pessoas, empresas, objetos discutidos, etc.\n",
    "\n",
    "    {noticia}\n",
    "    \"\"\"\n",
    "\n",
    "    resposta = modelo.generate_content(pergunta)\n",
    "    print(f'NOTÍCIA {contagem + 1}: {lista_noticias[contagem]}')\n",
    "    print(resposta.text)"
   ]
  },
  {
   "cell_type": "markdown",
   "metadata": {},
   "source": [
    "• **Avaliação da Resposta**\n",
    "\n",
    "Nesse exercício, utilizei estruturas de repeteição e técnicas de raspagem de dados para extrair o texto de três notícias diferentes. É possível que artefatos da raspagem (como elementos de HTML) tenham afetado a resposta do modelo.\n",
    "\n",
    "Dito isso, a listagem de empresas e pessoas funcionou como o esperado, destacando e explicando as principais entidades da notícia.\n",
    "\n",
    "Para além disso, o modelo extrapolou um pouco no que seria considerado relevante, perdendo a consistência no resumo e incluindo conceitos e temas mais vagos, mesmo que estes estivessem presentes na notícia.\n",
    "\n",
    "Idealmente, o *prompt* deveria ser refeito e restringido somente a empresas e pessoas físicas para atender às expectativas da consultoria.\n",
    "\n",
    "---"
   ]
  },
  {
   "cell_type": "markdown",
   "metadata": {},
   "source": [
    "## **Exercício 9: Cálculo de Tokens em Texto Longo com API Gemini**\n",
    "\n",
    "*Implemente um notebook que use a API Gemini para calcular a quantidade de tokens necessários para processar um texto de 5.000 palavras.* \n",
    "\n",
    "*Baseie-se no modelo de tokenização utilizado por Gemini e explique como a quantidade de tokens influencia o custo e o desempenho da interação com LLMs em textos longos.*"
   ]
  },
  {
   "cell_type": "code",
   "execution_count": 10,
   "metadata": {},
   "outputs": [],
   "source": [
    "resp_principe = requests.get('https://mais-diferencas.s3.us-east-2.amazonaws.com/books/O+Pequeno+Pr%C3%ADncipe/original.txt')\n",
    "\n",
    "texto = resp_principe.text.split()[:5000]\n",
    "texto = ' '.join(texto)"
   ]
  },
  {
   "cell_type": "code",
   "execution_count": 11,
   "metadata": {},
   "outputs": [],
   "source": [
    "import tiktoken\n",
    "\n",
    "codificador = tiktoken.get_encoding('cl100k_base')\n",
    "\n",
    "tokens = codificador.encode(texto)"
   ]
  },
  {
   "cell_type": "code",
   "execution_count": 12,
   "metadata": {},
   "outputs": [
    {
     "data": {
      "text/plain": [
       "8701"
      ]
     },
     "execution_count": 12,
     "metadata": {},
     "output_type": "execute_result"
    }
   ],
   "source": [
    "len(tokens)"
   ]
  },
  {
   "cell_type": "code",
   "execution_count": 13,
   "metadata": {},
   "outputs": [
    {
     "data": {
      "text/plain": [
       "[46, 5250, 447]"
      ]
     },
     "execution_count": 13,
     "metadata": {},
     "output_type": "execute_result"
    }
   ],
   "source": [
    "tokens[:3]"
   ]
  },
  {
   "cell_type": "markdown",
   "metadata": {},
   "source": [
    "Utilizamos um trecho de 5.000 palavras do livro \"O Pequeno Príncipe\" e foram necessários **8.701 tokens para processá-lo**.\n",
    "\n",
    "Os *tokens* são as divisões usadas pelos LLMs para processar textos em representações numéricas. Podem ser palavras inteiras, radicais, pontuações, etc.\n",
    "\n",
    "Portanto, um vocabulário extenso resulta em um maior número de *tokens*, o que provavelmente necessitará de um tempo de processamento maior, possibilidade de se perder o contexto — tanto pelo número de palavras em si quanto caso haja a necessidade de separar o texto em pedaços menores — e uma tarefa mais custosa no geral, já que a maioria desses modelos cobra pelo número de *tokens*.\n",
    "\n",
    "---"
   ]
  },
  {
   "cell_type": "markdown",
   "metadata": {},
   "source": [
    "## **Exercício 10: Otimização de Respostas com Role Prompting**\n",
    "\n",
    "*No Poe.com, aplique a técnica de Role Prompting para otimizar as respostas do LLM Claude3.5.*\n",
    "\n",
    "*O cenário é o seguinte: você está desenvolvendo um assistente virtual para uma empresa de consultoria jurídica. Crie um prompt onde o modelo deve assumir o papel de um advogado especializado em direito contábil ao responder perguntas sobre Imposto de Renda de Pessoa Física.*\n",
    "\n",
    "*Avalie a resposta do modelo para uma mesma pergunta sobre IRPF num prompt com e sem Role Prompting.*"
   ]
  },
  {
   "cell_type": "markdown",
   "metadata": {},
   "source": [
    "• **Pergunta Generalizada**\n",
    "\n",
    "![imposto_generalizado](./Capturas%20de%20Tela/Exercício%2010%20-%20Pergunta%20Generalizada.png)\n",
    "\n",
    "• **Pergunta a um Especialista**\n",
    "\n",
    "![imposto_especialista](./Capturas%20de%20Tela/Exercício%2010%20-%20Pergunta%20a%20um%20Especialista.png)\n",
    "\n",
    "• **Avaliação das Respostas**\n",
    "\n",
    "De maneira similar a outras perguntas dessa natureza, há sim uma melhoria na pergunta feita com os princípios de engenharia de *prompts* e *role prompting*, apesar dos pontos principais serem parecidos.\n",
    "\n",
    "Observamos uma formatação diferente ao especificar que é um cliente pedindo ajuda e para o modelo sanar dúvidas comuns sobre o assunto.\n",
    "\n",
    "Alguns pontos em comum são mais detalhados, como informações dos dependentes, valor da multa por atraso, modelo simplificado, etc.\n",
    "\n",
    "Seguindo o \"papel\" de um advogado, a resposta destaca conselhos como evitar erros comuns: esquecer ou errar no cadastro de dados (como CPF), verificar os valores inseridos, checar informações duplicadas (como a dos dependentes). Além disso, o final da resposta é parecido, oferecendo explicar melhor cada um dos pontos, mas sinto que o formato com *role prompting* soa mais naturalmente como o atendimento a um cliente.\n",
    "\n",
    "---"
   ]
  },
  {
   "cell_type": "markdown",
   "metadata": {},
   "source": [
    "## **Exercício 11: Estruturação de Prompts com Arquivo YAML**\n",
    "\n",
    "*Crie um arquivo YAML que represente a estrutura:*\n",
    "\n",
    "    {‘'roteiro’: {‘atenas’: ‘prompt’, ‘roma’: ‘prompt’}}\n",
    "\n",
    "\n",
    "*Você deve definir dois prompts: um para listar 3 pontos turísticos de Roma, o número anual de visitantes e uma breve descrição de cada um, e outro para fazer o mesmo com Atenas.*\n",
    "\n",
    "*Em seguida, crie um notebook que leia esse arquivo YAML e execute os prompts usando o Gemini (uma execução por cidade no roteiro).*\n",
    "\n",
    "*Qual foi o resultado? Os pontos turísticos são relevantes e suas descrições são precisas?*"
   ]
  },
  {
   "cell_type": "markdown",
   "metadata": {},
   "source": [
    "**Criamos um arquivo .YAML** na pasta Dados com a seguinte estrutura:\n",
    "\n",
    "    {'roteiro':\n",
    "                {'atenas': 'Liste 3 pontos turísticos de Atenas, incluindo uma breve descrião e número anual de visitantes para cada.',\n",
    "                'roma': 'Liste 3 pontos turísticos de Roma, incluindo uma breve descrião e número anual de visitantes para cada.'}\n",
    "    }"
   ]
  },
  {
   "cell_type": "code",
   "execution_count": 32,
   "metadata": {},
   "outputs": [
    {
     "name": "stdout",
     "output_type": "stream",
     "text": [
      "## 3 Pontos Turísticos de Atenas:\n",
      "\n",
      "**1. Acrópole:**  A Acrópole é um complexo de monumentos antigos construídos no topo de uma colina rochosa, no coração de Atenas. É um dos marcos mais icônicos da Grécia, com destaque para o Partenon, um templo dedicado à deusa Atena. \n",
      "\n",
      "* **Descrição:** O complexo inclui vários templos e edifícios, como o Erechtheion, o Templo de Atena Niké e a Propileia. A Acrópole oferece vistas panorâmicas da cidade.\n",
      "* **Visitantes Anuais:** Estima-se que a Acrópole recebe **aproximadamente 3 milhões de visitantes por ano.**\n",
      "\n",
      "**2. Museu da Acrópole:**  Situado no sopé da colina, o Museu da Acrópole abriga uma coleção de esculturas, artefatos e outros artefatos da Acrópole e da Grécia Antiga. \n",
      "\n",
      "* **Descrição:** O museu exibe peças da história e da arte da Acrópole, incluindo os famosos frisos do Partenon.\n",
      "* **Visitantes Anuais:** O Museu da Acrópole recebe **mais de 1 milhão de visitantes por ano.**\n",
      "\n",
      "**3. Ágora Antiga:** A Ágora Antiga era o centro comercial e político de Atenas na antiguidade. Hoje em dia, é um sítio arqueológico que revela os restos de templos, edifícios públicos e casas.\n",
      "\n",
      "* **Descrição:**  A Ágora é um local fascinante para explorar a vida cotidiana na Grécia Antiga.  As ruínas incluem a Stoa de Átalo, o Templo de Hefesto e a Stoa de Zeus.\n",
      "* **Visitantes Anuais:** A Ágora Antiga recebe **aproximadamente 500.000 visitantes por ano.** \n",
      "\n",
      "Aqui estão 3 pontos turísticos de Roma, incluindo uma breve descrição e número anual de visitantes para cada:\n",
      "\n",
      "1. **Coliseu:** Um anfiteatro romano gigante construído no século I d.C., o Coliseu era usado para combates de gladiadores e outros espetáculos públicos. Hoje, é um dos marcos mais icônicos de Roma e uma visita obrigatória para qualquer turista. \n",
      "   * **Número anual de visitantes:** Aprox. 7,5 milhões\n",
      "\n",
      "2. **Fórum Romano:** Um vasto complexo de ruínas de edifícios e monumentos da Roma Antiga, o Fórum Romano era o coração da cidade. Ele abriga construções como a Basílica Julia, o Templo de Saturno e a Coluna de Trajano. \n",
      "   * **Número anual de visitantes:** Aprox. 3,5 milhões\n",
      "\n",
      "3. **Museus Vaticanos:** Um complexo de museus que abrigam uma vasta coleção de arte, esculturas e artefatos da Igreja Católica. Os Museus Vaticanos incluem a Capela Sistina, com seus famosos afrescos de Michelangelo. \n",
      "   * **Número anual de visitantes:** Aprox. 6 milhões \n",
      "\n"
     ]
    }
   ],
   "source": [
    "import yaml\n",
    "\n",
    "modelo = genai.GenerativeModel('gemini-1.5-flash')\n",
    "\n",
    "with open('./Dados/roteiro.yaml', 'r') as arquivo:\n",
    "    roteiro = yaml.safe_load(arquivo)\n",
    "\n",
    "for cidade in roteiro['roteiro'].items():\n",
    "    pergunta = cidade[1]\n",
    "    resposta = modelo.generate_content(pergunta)\n",
    "    print(resposta.text)"
   ]
  },
  {
   "cell_type": "markdown",
   "metadata": {},
   "source": [
    "• **Avaliação da Resposta**\n",
    "\n",
    "A escolha de pontos turísticos faz sentido e o número anual de visitantes parece correto, assim como suas descrições.\n",
    "\n",
    "Algumas grafias estão levemente altearadas, talvez por conta de traduções para o português (Propileia em vez de Propileu, Erechtheion em vez de Erecteion).\n",
    "\n",
    "O modelo considerou o Vaticano e alguns museus e a Capela Sistina como parte de Roma. Embora a Cidade do Vaticano realmente seja considerado um Estado soberano totalmente fechado dentro de Roma, não sei se é correto considerá-lo parte do roteiro nesse contexto.\n",
    "\n",
    "---"
   ]
  },
  {
   "cell_type": "markdown",
   "metadata": {},
   "source": [
    "## **Exercício 12: Sistema de Envio de Emails com Dados Turísticos em JSON**\n",
    "\n",
    "*Queremos montar um sistema que envie emails com os pontos turísticos de cidades num roteiro de viagem.*\n",
    "\n",
    "*Com base no Exercício 11, altere o prompt para estruturar a saída em formato JSON, com descrições e número de visitantes.*\n",
    "\n",
    "*Crie um notebook que use a biblioteca pandas para converter esse JSON para dataframe e plot um único gráfico de barras horizontais com todos os pontos turísticos, destacando as cores das barras de acordo com a cidade do ponto turístico (Coliseu, em Roma deve ter uma cor diferente que Parthenon, em Atenas).* \n",
    "\n",
    "*Coloque as legendas no gráfico.*"
   ]
  },
  {
   "cell_type": "code",
   "execution_count": 101,
   "metadata": {},
   "outputs": [],
   "source": [
    "import yaml\n",
    "\n",
    "modelo = genai.GenerativeModel('gemini-1.5-flash')\n",
    "\n",
    "with open('./Dados/roteiro.yaml', 'r') as arquivo:\n",
    "    roteiro = yaml.safe_load(arquivo)\n",
    "\n",
    "pergunta_json = f\"\"\"\n",
    "Seguindo o formato do arquivo YAML abaixo, crie um arquivo em formato JSON que \n",
    "liste 3 pontos turísticos de CADA CIDADE , incluindo uma breve descrião e número anual de visitantes para cada.\n",
    "Exiba somente o conteúdo do arquivo JSON em si, sem a necessidade de escrever '''json'''.\n",
    "\n",
    "Exemplo (ainda sem as chaves e colchetes de um JSON):\n",
    "\n",
    "\"roteiro\": \n",
    "      \"cidade\": \"Rio de Janeiro\",\n",
    "      \"pontos_turisticos\": \n",
    "          \"nome\": \"Praia de Copacabana\",\n",
    "          \"descricao\": \"Uma das praias mais bonitas do mundo\",\n",
    "          \"visitantes_anuais\": \"3 milhões de visitantes\"\n",
    "\n",
    "Aqui estão os dados originais:\n",
    "\n",
    "{roteiro}\n",
    "\"\"\"\n",
    "\n",
    "resposta_json = modelo.generate_content(pergunta_json)"
   ]
  },
  {
   "cell_type": "code",
   "execution_count": null,
   "metadata": {},
   "outputs": [],
   "source": [
    "# SALVANDO O ARQUIVO JSON\n",
    "\n",
    "import json\n",
    "\n",
    "dados_json = json.loads(resposta_json.text)\n",
    "\n",
    "with open('./Dados/roteiro.json', 'w', encoding='utf-8') as arquivo:\n",
    "    json.dump(dados_json, arquivo, ensure_ascii=False, indent=4)"
   ]
  },
  {
   "cell_type": "code",
   "execution_count": 146,
   "metadata": {},
   "outputs": [],
   "source": [
    "# TRANSFORMANDO EM UM DATAFRAME DO PANDAS\n",
    "\n",
    "import pandas as pd\n",
    "\n",
    "with open('./Dados/roteiro.json', 'r', encoding='utf-8') as arquivo:\n",
    "    dados_json = json.load(arquivo)\n",
    "\n",
    "roteiro_df = pd.json_normalize(dados_json['roteiro'],\n",
    "                               record_path=['pontos_turisticos'],\n",
    "                               meta=['cidade']\n",
    "                               )"
   ]
  },
  {
   "cell_type": "code",
   "execution_count": 159,
   "metadata": {},
   "outputs": [],
   "source": [
    "roteiro_df['visitantes_anuais_num'] = roteiro_df['visitantes_anuais'].apply(lambda x: float(x.split()[0]) * 1_000_000)"
   ]
  },
  {
   "cell_type": "code",
   "execution_count": 160,
   "metadata": {},
   "outputs": [
    {
     "data": {
      "text/html": [
       "<div>\n",
       "<style scoped>\n",
       "    .dataframe tbody tr th:only-of-type {\n",
       "        vertical-align: middle;\n",
       "    }\n",
       "\n",
       "    .dataframe tbody tr th {\n",
       "        vertical-align: top;\n",
       "    }\n",
       "\n",
       "    .dataframe thead th {\n",
       "        text-align: right;\n",
       "    }\n",
       "</style>\n",
       "<table border=\"1\" class=\"dataframe\">\n",
       "  <thead>\n",
       "    <tr style=\"text-align: right;\">\n",
       "      <th></th>\n",
       "      <th>nome</th>\n",
       "      <th>descricao</th>\n",
       "      <th>visitantes_anuais</th>\n",
       "      <th>cidade</th>\n",
       "      <th>visitantes_anuais_num</th>\n",
       "    </tr>\n",
       "  </thead>\n",
       "  <tbody>\n",
       "    <tr>\n",
       "      <th>0</th>\n",
       "      <td>Acrópole de Atenas</td>\n",
       "      <td>Um dos monumentos mais importantes da Grécia A...</td>\n",
       "      <td>7 milhões de visitantes</td>\n",
       "      <td>Atenas</td>\n",
       "      <td>7000000.0</td>\n",
       "    </tr>\n",
       "    <tr>\n",
       "      <th>1</th>\n",
       "      <td>Agorá Antiga</td>\n",
       "      <td>O antigo mercado da cidade, um importante cent...</td>\n",
       "      <td>2 milhões de visitantes</td>\n",
       "      <td>Atenas</td>\n",
       "      <td>2000000.0</td>\n",
       "    </tr>\n",
       "    <tr>\n",
       "      <th>2</th>\n",
       "      <td>Museu da Acrópole</td>\n",
       "      <td>Museu que abriga artefatos da Acrópole, inclui...</td>\n",
       "      <td>1.5 milhões de visitantes</td>\n",
       "      <td>Atenas</td>\n",
       "      <td>1500000.0</td>\n",
       "    </tr>\n",
       "    <tr>\n",
       "      <th>3</th>\n",
       "      <td>Coliseu</td>\n",
       "      <td>Um anfiteatro romano construído no século 1 d....</td>\n",
       "      <td>7 milhões de visitantes</td>\n",
       "      <td>Roma</td>\n",
       "      <td>7000000.0</td>\n",
       "    </tr>\n",
       "    <tr>\n",
       "      <th>4</th>\n",
       "      <td>Fórum Romano</td>\n",
       "      <td>O centro político, social e comercial da Roma ...</td>\n",
       "      <td>4 milhões de visitantes</td>\n",
       "      <td>Roma</td>\n",
       "      <td>4000000.0</td>\n",
       "    </tr>\n",
       "    <tr>\n",
       "      <th>5</th>\n",
       "      <td>Museus do Vaticano</td>\n",
       "      <td>Museus que abrigam coleções de arte e artefato...</td>\n",
       "      <td>6 milhões de visitantes</td>\n",
       "      <td>Roma</td>\n",
       "      <td>6000000.0</td>\n",
       "    </tr>\n",
       "  </tbody>\n",
       "</table>\n",
       "</div>"
      ],
      "text/plain": [
       "                 nome                                          descricao  \\\n",
       "0  Acrópole de Atenas  Um dos monumentos mais importantes da Grécia A...   \n",
       "1        Agorá Antiga  O antigo mercado da cidade, um importante cent...   \n",
       "2   Museu da Acrópole  Museu que abriga artefatos da Acrópole, inclui...   \n",
       "3             Coliseu  Um anfiteatro romano construído no século 1 d....   \n",
       "4        Fórum Romano  O centro político, social e comercial da Roma ...   \n",
       "5  Museus do Vaticano  Museus que abrigam coleções de arte e artefato...   \n",
       "\n",
       "           visitantes_anuais  cidade  visitantes_anuais_num  \n",
       "0    7 milhões de visitantes  Atenas              7000000.0  \n",
       "1    2 milhões de visitantes  Atenas              2000000.0  \n",
       "2  1.5 milhões de visitantes  Atenas              1500000.0  \n",
       "3    7 milhões de visitantes    Roma              7000000.0  \n",
       "4    4 milhões de visitantes    Roma              4000000.0  \n",
       "5    6 milhões de visitantes    Roma              6000000.0  "
      ]
     },
     "execution_count": 160,
     "metadata": {},
     "output_type": "execute_result"
    }
   ],
   "source": [
    "roteiro_df"
   ]
  },
  {
   "cell_type": "code",
   "execution_count": 172,
   "metadata": {},
   "outputs": [
    {
     "data": {
      "image/png": "[encoded data removed]",
      "text/plain": [
       "<Figure size 640x480 with 1 Axes>"
      ]
     },
     "metadata": {},
     "output_type": "display_data"
    }
   ],
   "source": [
    "import matplotlib.pyplot as plt\n",
    "import seaborn as sns\n",
    "\n",
    "sns.barplot(data=roteiro_df, x='nome', y='visitantes_anuais_num', hue='cidade')\n",
    "\n",
    "plt.title('Pontos Turísticos')\n",
    "plt.ylabel('Visitantes Anuais (em milhões)')\n",
    "plt.xlabel('')\n",
    "plt.xticks(rotation=90)\n",
    "plt.grid(axis='y', alpha=0.5)\n",
    "plt.show()"
   ]
  }
 ],
 "metadata": {
  "kernelspec": {
   "display_name": ".venv_tp2",
   "language": "python",
   "name": "python3"
  },
  "language_info": {
   "codemirror_mode": {
    "name": "ipython",
    "version": 3
   },
   "file_extension": ".py",
   "mimetype": "text/x-python",
   "name": "python",
   "nbconvert_exporter": "python",
   "pygments_lexer": "ipython3",
   "version": "3.12.4"
  }
 },
 "nbformat": 4,
 "nbformat_minor": 2
}
